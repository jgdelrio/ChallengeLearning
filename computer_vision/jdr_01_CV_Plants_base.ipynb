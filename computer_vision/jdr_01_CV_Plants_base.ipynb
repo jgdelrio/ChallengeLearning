{
 "cells": [
  {
   "cell_type": "markdown",
   "metadata": {},
   "source": [
    "# Computer Vision: Plants Classification"
   ]
  },
  {
   "cell_type": "markdown",
   "metadata": {},
   "source": [
    "This dataset is based on the **Plant Seedlings Dataset**, which contains images of approximately 960 unique plants belonging to 12 species at several growth stages, with a resolution of about 10 pixels per mm of annotated RGB images.\n",
    "\n",
    "The dataset includes the following species:\n",
    "\n",
    "\n",
    "|English     |Latin               |EPPO|\n",
    "|:-----------|:-------------------|:---|\n",
    "|Maize       |Zea mays L.         |ZEAMX|\n",
    "|Common wheat|Triticum aestivum L.|TRZAX|\n",
    "|Sugar beet|Beta vulgaris var. altissima|BEAVA|\n",
    "|Scentless Mayweed|Matricaria perforata Mérat|MATIN|\n",
    "|Common Chickweed|Stellaria media|STEME|\n",
    "|Shepherd’s Purse|Capsella bursa-pastoris|CAPBP|\n",
    "|Cleavers|Galium aparine L.|GALAP|\n",
    "|Charlock|Sinapis arvensis L.|SINAR|\n",
    "|Fat Hen|Chenopodium album L.|CHEAL|\n",
    "|Small-flowered Cranesbill|Geranium pusillum|GERSS|\n",
    "|Black-grass|Alopecurus myosuroides|ALOMY|\n",
    "|Loose Silky-bent|Apera spica-venti|APESV|\n",
    "\n",
    "Your mission, should you choose to accept it... consist on:\n",
    "- create a model that classifies the full range of categories as accuretely as possible.\n",
    "- save the model for further analysis.\n",
    "\n",
    "If you're caught of killed during the mission, the dataen team will disavow any knowledge of your actions. This notebook will not self-destruct (disappointing right?). Good luck!\n"
   ]
  },
  {
   "cell_type": "code",
   "execution_count": 22,
   "metadata": {},
   "outputs": [],
   "source": [
    "%matplotlib inline\n",
    "\n",
    "import os\n",
    "import sys\n",
    "from time import time\n",
    "import pickle\n",
    "import pathlib\n",
    "import itertools\n",
    "from tqdm import tqdm_notebook as tqdm\n",
    "import numpy as np\n",
    "import pandas as pd\n",
    "import numpy as np\n",
    "import matplotlib.pyplot as plt\n",
    "import matplotlib.image as mpimg\n",
    "import seaborn as sns\n",
    "import pandas_profiling\n",
    "\n",
    "np.random.seed(42)"
   ]
  },
  {
   "cell_type": "markdown",
   "metadata": {},
   "source": [
    "## 1. Data Preparation\n",
    "### 1.1 Load data"
   ]
  },
  {
   "cell_type": "code",
   "execution_count": 5,
   "metadata": {},
   "outputs": [
    {
     "data": {
      "text/plain": [
       "{'Black-grass': 0,\n",
       " 'Charlock': 1,\n",
       " 'Cleavers': 2,\n",
       " 'Common Chickweed': 3,\n",
       " 'Common wheat': 4,\n",
       " 'Fat Hen': 5,\n",
       " 'Loose Silky-bent': 6,\n",
       " 'Maize': 7,\n",
       " 'Scentless Mayweed': 8,\n",
       " 'Shepherds Purse': 9,\n",
       " 'Small-flowered Cranesbill': 10,\n",
       " 'Sugar beet': 11}"
      ]
     },
     "execution_count": 5,
     "metadata": {},
     "output_type": "execute_result"
    }
   ],
   "source": [
    "PLANT_CLASSES = ['Black-grass', 'Charlock', 'Cleavers', 'Common Chickweed', 'Common wheat', \n",
    "                 'Fat Hen', 'Loose Silky-bent', 'Maize', 'Scentless Mayweed', \n",
    "                 'Shepherds Purse', 'Small-flowered Cranesbill', 'Sugar beet']\n",
    "CLASSES_DICT_NAMES = {name: k for k, name in zip(range(len(PLANT_CLASSES)), PLANT_CLASSES)}\n",
    "CLASSES_DICT_NUM = {k: name for k, name in zip(range(len(PLANT_CLASSES)), PLANT_CLASSES)}\n",
    "\n",
    "DF_PART1 = \"./data/plants_part1.gz\"\n",
    "DF_PART2 = \"./data/plants_part2.gz\"\n",
    "DF_PART3 = \"./data/plants_part3.gz\"\n",
    "RESHAPE_SIZE = (65, 65, 3)\n",
    "RANDOM_STATE = 42\n",
    "\n",
    "CLASSES_DICT_NAMES"
   ]
  },
  {
   "cell_type": "code",
   "execution_count": 6,
   "metadata": {},
   "outputs": [
    {
     "data": {
      "text/plain": [
       "Index(['label', 'class', '0', '1', '2', '3', '4', '5', '6', '7'], dtype='object')"
      ]
     },
     "execution_count": 6,
     "metadata": {},
     "output_type": "execute_result"
    }
   ],
   "source": [
    "df_p1 = pd.read_csv(DF_PART1)\n",
    "df_p2 = pd.read_csv(DF_PART2)\n",
    "df_p3 = pd.read_csv(DF_PART3)\n",
    "df = pd.concat([df_p1, df_p2, df_p3], axis=0)\n",
    "df.shape\n",
    "df.columns[:10]"
   ]
  },
  {
   "cell_type": "markdown",
   "metadata": {},
   "source": [
    "We can ignore the column 'label'. The column class is the entry we must use for our classification.\n",
    "\n",
    "The rest of the columns belong to the image and we must reshape those values into 65x65x3 to obtain the images."
   ]
  },
  {
   "cell_type": "code",
   "execution_count": 8,
   "metadata": {},
   "outputs": [],
   "source": [
    "df_labels = df[['class']]\n",
    "df.drop(labels=['label', 'class'], axis=1, inplace=True)\n",
    "df_images = df.values.reshape(-1, *RESHAPE_SIZE)"
   ]
  }
 ],
 "metadata": {
  "hide_input": false,
  "kernelspec": {
   "display_name": "machine-learning-challenges",
   "language": "python",
   "name": "machine-learning-challenges"
  },
  "language_info": {
   "codemirror_mode": {
    "name": "ipython",
    "version": 3
   },
   "file_extension": ".py",
   "mimetype": "text/x-python",
   "name": "python",
   "nbconvert_exporter": "python",
   "pygments_lexer": "ipython3",
   "version": "3.7.4"
  }
 },
 "nbformat": 4,
 "nbformat_minor": 2
}
